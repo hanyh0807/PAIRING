{
 "cells": [
  {
   "cell_type": "code",
   "execution_count": 1,
   "id": "fd25c687",
   "metadata": {
    "scrolled": true
   },
   "outputs": [],
   "source": [
    "import numpy as np\n",
    "import pandas as pd\n",
    "import re\n",
    "import matplotlib.pyplot as plt\n",
    "import seaborn as sns\n",
    "import pickle\n",
    "from scipy.spatial.distance import cosine, cdist\n",
    "from tqdm import tqdm\n",
    "\n",
    "import scanpy as sc\n",
    "\n",
    "import anndata as ad\n",
    "import logging\n",
    "import scgen\n",
    "\n",
    "import os"
   ]
  },
  {
   "cell_type": "code",
   "execution_count": 2,
   "id": "58ddb90c",
   "metadata": {},
   "outputs": [
    {
     "data": {
      "text/plain": [
       "True"
      ]
     },
     "execution_count": 2,
     "metadata": {},
     "output_type": "execute_result"
    }
   ],
   "source": [
    "import torch\n",
    "torch.cuda.is_available()"
   ]
  },
  {
   "cell_type": "code",
   "execution_count": 3,
   "id": "7ce57247",
   "metadata": {},
   "outputs": [],
   "source": [
    "basedir = '../l1000_data/'\n",
    "train_data = pd.read_csv(basedir+'p1shp2xpr/training_data_p1.csv', index_col=None)\n",
    "geneid = np.array(train_data.columns[2:]).astype('int')\n",
    "train_data_sh = pd.read_csv(basedir+'p1shp2xpr/training_data_sh_p1.csv', index_col=None)\n",
    "train_data2 = pd.read_csv(basedir+'p1shp2xpr/training_data_p2.csv', index_col=None)\n",
    "train_data_ve = pd.read_csv(basedir+'p1shp2xpr/training_data_vehicle.csv', index_col=None)\n",
    "train_data_ve = train_data_ve.loc[train_data_ve['pert_iname']=='DMSO']\n",
    "train_data_ve.loc[:,'pert_iname'] = 'control'\n",
    "\n",
    "basalccl = train_data.iloc[np.where(train_data['pert_iname']=='control')[0]]\n",
    "\n",
    "train_data = pd.concat((train_data, train_data_sh, train_data2, train_data_ve))\n",
    "\n",
    "val_data = pd.read_csv(basedir+'p1shp2xpr/validation_data_p1.csv', index_col=None)\n",
    "val_data2 = pd.read_csv(basedir+'p1shp2xpr/validation_data_p2.csv', index_col=None)\n",
    "val_data = pd.concat((val_data, val_data2))\n",
    "infoidx = 2\n",
    "\n",
    "# =============================================================================\n",
    "\n",
    "train_data_info = train_data.iloc[:,:infoidx].values\n",
    "train_data = train_data.iloc[:,infoidx:].values\n",
    "val_data_info = val_data.iloc[:,:infoidx].values\n",
    "val_data = val_data.iloc[:,infoidx:].values\n",
    "\n",
    "geneinfo = pd.read_csv(basedir+'GSE92742_Broad_LINCS_gene_info.txt', sep='\\t')\n",
    "genemapper = pd.Series(data=geneinfo['pr_gene_symbol'].values, index=geneinfo['pr_gene_id'].values)\n",
    "genesym = pd.Series(geneid).map(genemapper).values\n",
    "\n",
    "mol_meta = pd.read_csv(basedir+'LINCS_small_molecules.tsv', sep='\\t')\n",
    "mol_meta.index = mol_meta['pert_name']\n",
    "_, uid = np.unique(mol_meta.index, return_index=True)\n",
    "mol_meta = mol_meta.iloc[uid]\n",
    "mol_meta_tar = mol_meta.loc[mol_meta['target']!='-',:]"
   ]
  },
  {
   "cell_type": "code",
   "execution_count": 4,
   "id": "9b725ae0",
   "metadata": {},
   "outputs": [],
   "source": [
    "landmark_genes = pd.read_csv(basedir+'genelist.csv')\n",
    "adata_train = ad.AnnData(pd.DataFrame(train_data, index=np.arange(train_data.shape[0]).astype('str'), columns=landmark_genes['pr_gene_symbol']))\n",
    "adata_train.obs = pd.DataFrame(train_data_info, index=np.arange(train_data.shape[0]).astype('str'), columns=['sample', 'perturbation'])"
   ]
  },
  {
   "cell_type": "code",
   "execution_count": 5,
   "id": "54cce192-ca2e-44d9-9d29-8d482bd7ed9a",
   "metadata": {},
   "outputs": [],
   "source": [
    "totalpert = np.unique(train_data_info[:,1])\n",
    "totalpert = totalpert[totalpert!='control']"
   ]
  },
  {
   "cell_type": "code",
   "execution_count": 6,
   "id": "12396abc-a207-4fdd-898b-36663e968b81",
   "metadata": {},
   "outputs": [
    {
     "name": "stderr",
     "output_type": "stream",
     "text": [
      "/data/yhhan/PGAN/scgen-env/lib/python3.9/site-packages/scvi/data/fields/_dataframe_field.py:183: UserWarning: Category 1321 in adata.obs['_scvi_batch'] has fewer than 3 cells. Models may not train properly.\n",
      "  categorical_mapping = _make_column_categorical(\n"
     ]
    }
   ],
   "source": [
    "scgen.SCGEN.setup_anndata(adata_train, batch_key=\"perturbation\", labels_key=\"sample\")"
   ]
  },
  {
   "cell_type": "code",
   "execution_count": null,
   "id": "6e258d57",
   "metadata": {},
   "outputs": [],
   "source": []
  },
  {
   "cell_type": "markdown",
   "id": "15c811a4-38b7-4471-9353-62a740f9d6cb",
   "metadata": {},
   "source": [
    "# Training"
   ]
  },
  {
   "cell_type": "code",
   "execution_count": 15,
   "id": "aacd72db",
   "metadata": {},
   "outputs": [],
   "source": [
    "savedir = 'scgen_saved_models/model_perturbation_prediction.pt'\n",
    "if os.path.exists(savedir+\"/model.pt\"):\n",
    "    _model = torch.load(savedir+\"/model.pt\")\n",
    "    model = scgen.SCGEN(adata_train)\n",
    "    model.module.load_state_dict(_model['model_state_dict'])\n",
    "else:\n",
    "    model = scgen.SCGEN(adata_train)\n",
    "    model.save(savedir, overwrite=True)\n",
    "    model.train(\n",
    "        max_epochs=100,\n",
    "        batch_size=32,\n",
    "        early_stopping=True,\n",
    "        early_stopping_patience=25\n",
    "    )\n",
    "    model.save(savedir, overwrite=True)"
   ]
  },
  {
   "cell_type": "code",
   "execution_count": null,
   "id": "7978edb9-d566-4b01-9c63-2411224afcc3",
   "metadata": {},
   "outputs": [],
   "source": []
  },
  {
   "cell_type": "code",
   "execution_count": null,
   "id": "d0767294-c25f-45a4-95d3-13a492c457bc",
   "metadata": {},
   "outputs": [],
   "source": []
  },
  {
   "cell_type": "code",
   "execution_count": null,
   "id": "e7fc4e82-5210-41a3-8526-4ce7f97ed305",
   "metadata": {},
   "outputs": [],
   "source": []
  },
  {
   "cell_type": "markdown",
   "id": "f8eadcbc-764e-4d53-a328-f8def35d50b6",
   "metadata": {},
   "source": [
    "# Chanye"
   ]
  },
  {
   "cell_type": "code",
   "execution_count": 17,
   "id": "345faa88-fd11-4b3b-b636-2ca44b7596a3",
   "metadata": {},
   "outputs": [
    {
     "name": "stderr",
     "output_type": "stream",
     "text": [
      "/tmp/ipykernel_15877/3999599176.py:4: FutureWarning: Use anndata.concat instead of AnnData.concatenate, AnnData.concatenate is deprecated and will be removed in the future. See the tutorial for concat at: https://anndata.readthedocs.io/en/latest/concatenation.html\n",
      "  adata_mc_concat = adata_train.concatenate(adata_mc_landmark, batch_categories=['ref', 'new'])\n",
      "/data/yhhan/PGAN/scgen-env/lib/python3.9/site-packages/scanpy/preprocessing/_combat.py:352: RuntimeWarning: divide by zero encountered in divide\n",
      "  (abs(g_new - g_old) / g_old).max(), (abs(d_new - d_old) / d_old).max()\n"
     ]
    }
   ],
   "source": [
    "adata_mc_landmark = sc.read_h5ad('ChangYe2021_SEACells.h5ad')\n",
    "adata_mc_landmark\n",
    "\n",
    "adata_mc_concat = adata_train.concatenate(adata_mc_landmark, batch_categories=['ref', 'new'])\n",
    "adata_mc_concat\n",
    "\n",
    "adata_mc_concat_combat = sc.pp.combat(adata_mc_concat, key='batch', inplace=False)\n",
    "\n",
    "import qnorm\n",
    "target_dist = np.median(adata_train.X, axis=0)\n",
    "corrected_mc = qnorm.quantile_normalize(adata_mc_concat_combat[-adata_mc_landmark.shape[0]:,:].T, target=target_dist).T\n",
    "\n",
    "Aalpha_ = corrected_mc[adata_mc_landmark.obs['perturbation']=='control']\n",
    "Abeta_ = corrected_mc[adata_mc_landmark.obs['perturbation']=='erlotinib']"
   ]
  },
  {
   "cell_type": "code",
   "execution_count": 18,
   "id": "bbe2ad14-d264-43e2-b535-da1d7f2a0490",
   "metadata": {},
   "outputs": [
    {
     "data": {
      "text/plain": [
       "AnnData object with n_obs × n_vars = 204 × 976\n",
       "    obs: 'sample', 'perturbation'"
      ]
     },
     "execution_count": 18,
     "metadata": {},
     "output_type": "execute_result"
    }
   ],
   "source": [
    "onlycont = corrected_mc[adata_mc_landmark.obs['perturbation'] == 'control']\n",
    "adata_total_ = ad.AnnData(pd.DataFrame(onlycont, index=np.arange(onlycont.shape[0]).astype('str'), columns=landmark_genes['pr_gene_symbol']))\n",
    "adata_total_.obs = adata_mc_landmark.obs[['sample', 'perturbation']][adata_mc_landmark.obs['perturbation'] == 'control']\n",
    "adata_total_"
   ]
  },
  {
   "cell_type": "code",
   "execution_count": null,
   "id": "b6293db3-a06a-41b9-a1e3-3ec97cc49e30",
   "metadata": {},
   "outputs": [],
   "source": []
  },
  {
   "cell_type": "code",
   "execution_count": 19,
   "id": "77df94b4-229e-4113-8cda-5fe402c3cbfd",
   "metadata": {},
   "outputs": [],
   "source": [
    "adata_total = adata_train"
   ]
  },
  {
   "cell_type": "code",
   "execution_count": 20,
   "id": "0275ba91-2a23-43b5-8384-72dfe9bf8fed",
   "metadata": {},
   "outputs": [
    {
     "name": "stderr",
     "output_type": "stream",
     "text": [
      "/tmp/ipykernel_15877/1080020098.py:2: FutureWarning: Use anndata.concat instead of AnnData.concatenate, AnnData.concatenate is deprecated and will be removed in the future. See the tutorial for concat at: https://anndata.readthedocs.io/en/latest/concatenation.html\n",
      "  adata_total = adata_total.concatenate(adata_total_, batch_categories=['ref', 'new'])\n"
     ]
    }
   ],
   "source": [
    "# Include basal state to the adata_total\n",
    "adata_total = adata_total.concatenate(adata_total_, batch_categories=['ref', 'new'])"
   ]
  },
  {
   "cell_type": "code",
   "execution_count": 21,
   "id": "0e06192b-fefd-455a-a605-09e8acd28d7b",
   "metadata": {},
   "outputs": [
    {
     "name": "stderr",
     "output_type": "stream",
     "text": [
      "/data/yhhan/PGAN/scgen-env/lib/python3.9/site-packages/anndata/_core/anndata.py:1818: UserWarning: Observation names are not unique. To make them unique, call `.obs_names_make_unique`.\n",
      "  utils.warn_names_duplicates(\"obs\")\n"
     ]
    }
   ],
   "source": [
    "z,x,c = np.unique(adata_total.obs['sample'] + ' ' + adata_total.obs['perturbation'], return_counts=True, return_index=True)\n",
    "adata_total = ad.concat((adata_total, adata_total[x[c==1]].copy()))"
   ]
  },
  {
   "cell_type": "code",
   "execution_count": 22,
   "id": "5cf0879e-623f-4f79-8aca-3bdb53688237",
   "metadata": {},
   "outputs": [
    {
     "name": "stderr",
     "output_type": "stream",
     "text": [
      "/data/yhhan/PGAN/scgen-env/lib/python3.9/site-packages/scvi/data/fields/_dataframe_field.py:183: UserWarning: Category 630 in adata.obs['_scvi_batch'] has fewer than 3 cells. Models may not train properly.\n",
      "  categorical_mapping = _make_column_categorical(\n"
     ]
    }
   ],
   "source": [
    "scgen.SCGEN.setup_anndata(adata_total, batch_key=\"perturbation\", labels_key=\"sample\")"
   ]
  },
  {
   "cell_type": "code",
   "execution_count": 23,
   "id": "4ce41e92-3020-4fe2-9ab0-4ca3aecac4f7",
   "metadata": {},
   "outputs": [
    {
     "data": {
      "text/plain": [
       "<All keys matched successfully>"
      ]
     },
     "execution_count": 23,
     "metadata": {},
     "output_type": "execute_result"
    }
   ],
   "source": [
    "_model = torch.load(savedir+\"/model.pt\")\n",
    "pred_model = scgen.SCGEN(adata_total)\n",
    "pred_model.module.load_state_dict(_model['model_state_dict'])"
   ]
  },
  {
   "cell_type": "code",
   "execution_count": 24,
   "id": "818fb44a-1a61-4f9a-a90f-3863a2bf6626",
   "metadata": {},
   "outputs": [],
   "source": [
    "pred_model.is_trained=True"
   ]
  },
  {
   "cell_type": "code",
   "execution_count": null,
   "id": "523fc6b2-be95-4d4f-9c84-94cc6b47155e",
   "metadata": {
    "scrolled": true
   },
   "outputs": [],
   "source": [
    "pred_house = []\n",
    "for p in totalpert:\n",
    "    pred, _ = pred_model.predict(\n",
    "        ctrl_key='control',\n",
    "        stim_key=p,\n",
    "        celltype_to_predict='SAMb6ba60b525'\n",
    "    )\n",
    "    pred.obs['condition'] = 'pred'\n",
    "\n",
    "    pred_house.append(pred)"
   ]
  },
  {
   "cell_type": "code",
   "execution_count": 28,
   "id": "f70fda06-7935-43e9-970e-7bfe4ec5468e",
   "metadata": {
    "scrolled": true
   },
   "outputs": [],
   "source": [
    "rankperf_house = []\n",
    "\n",
    "mc_info = adata_mc_landmark.obs[['sample', 'perturbation']].values\n",
    "\n",
    "cors_a_ = np.zeros(len(pred_house))\n",
    "for p in range(len(pred_house)):\n",
    "    cors_a_[p] = -cdist(corrected_mc[(mc_info[:,1]=='erlotinib'),:], pred_house[p].X, 'correlation').ravel().mean()\n",
    "rankperf_house.append([cors_a_])"
   ]
  },
  {
   "cell_type": "code",
   "execution_count": 29,
   "id": "74e0c35b-60b7-4221-81c5-ac0e2c8b7701",
   "metadata": {},
   "outputs": [
    {
     "name": "stdout",
     "output_type": "stream",
     "text": [
      "[11139] / 12794\n"
     ]
    }
   ],
   "source": [
    "print(np.where(totalpert[np.argsort(rankperf_house[0][0])[::-1]]=='erlotinib')[0]+1, '/', totalpert.size,)"
   ]
  },
  {
   "cell_type": "code",
   "execution_count": null,
   "id": "ede63fdb-ddd7-43db-acdd-138777f97e90",
   "metadata": {},
   "outputs": [],
   "source": []
  },
  {
   "cell_type": "code",
   "execution_count": null,
   "id": "a801f9b2-d866-4361-b9e7-11e292e5efdd",
   "metadata": {},
   "outputs": [],
   "source": []
  },
  {
   "cell_type": "code",
   "execution_count": null,
   "id": "49ea210c-24ae-4afe-b593-ac3011b4582a",
   "metadata": {},
   "outputs": [],
   "source": []
  }
 ],
 "metadata": {
  "kernelspec": {
   "display_name": "Python 3 (ipykernel)",
   "language": "python",
   "name": "python3"
  },
  "language_info": {
   "codemirror_mode": {
    "name": "ipython",
    "version": 3
   },
   "file_extension": ".py",
   "mimetype": "text/x-python",
   "name": "python",
   "nbconvert_exporter": "python",
   "pygments_lexer": "ipython3",
   "version": "3.9.16"
  }
 },
 "nbformat": 4,
 "nbformat_minor": 5
}
